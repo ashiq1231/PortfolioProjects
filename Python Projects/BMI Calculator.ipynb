{
 "cells": [
  {
   "cell_type": "markdown",
   "id": "e307c41b",
   "metadata": {},
   "source": [
    "# BMI Calculator"
   ]
  },
  {
   "cell_type": "code",
   "execution_count": null,
   "id": "7b692d24",
   "metadata": {},
   "outputs": [],
   "source": [
    "#BMI = (weight in KGS) / (height in metres x height in metres)"
   ]
  },
  {
   "cell_type": "code",
   "execution_count": 5,
   "id": "919bdfaa",
   "metadata": {},
   "outputs": [
    {
     "name": "stdout",
     "output_type": "stream",
     "text": [
      "Enter Your Name: Ashiq\n",
      "Enter your Weight in KGs: 170\n",
      "Enter your Height in Meters: 1.7\n",
      "58.82352941176471\n",
      "Ashiq You are Morbidly obese\n"
     ]
    }
   ],
   "source": [
    "name = input('Enter Your Name: ')\n",
    "\n",
    "weight = input('Enter your Weight in KGs: ')\n",
    "\n",
    "height = input('Enter your Height in Meters: ')\n",
    "\n",
    "weight_int = int(weight)\n",
    "height_int = float(height)\n",
    "BMI = (weight_int) / (height_int * height_int)\n",
    "\n",
    "print(BMI)\n",
    "\n",
    "if BMI>0:\n",
    "    if (BMI < 18.5):\n",
    "        Print(name +' are Underweight')\n",
    "    elif (BMI >= 18.5 and BMI <= 24.9):\n",
    "        print(name +' You are Normal weight')\n",
    "    elif (BMI >= 25 and BMI <= 29.9):\n",
    "        print(name +' You are Overweight')\n",
    "    elif (BMI >= 30 and BMI <= 34.9):\n",
    "        print(name +' You are Obese')\n",
    "    elif (BMI >= 35 and BMI <= 39.9):\n",
    "        print(name +' You are Severely Obese')\n",
    "    else:\n",
    "        print(name +' You are Morbidly obese')\n",
    "else:\n",
    "    print('Enter a valid inputs!')"
   ]
  },
  {
   "cell_type": "code",
   "execution_count": null,
   "id": "978eb9bd",
   "metadata": {},
   "outputs": [],
   "source": []
  },
  {
   "cell_type": "code",
   "execution_count": null,
   "id": "292793ea",
   "metadata": {
    "collapsed": true
   },
   "outputs": [],
   "source": []
  },
  {
   "cell_type": "code",
   "execution_count": null,
   "id": "23372ddc",
   "metadata": {
    "collapsed": true
   },
   "outputs": [],
   "source": [
    "Under 18.5\tUnderweight\tMinimal\n",
    "18.5 - 24.9\tNormal Weight\tMinimal\n",
    "25 - 29.9\tOverweight\tIncreased\n",
    "30 - 34.9\tObese\tHigh\n",
    "35 - 39.9\tSeverely Obese\tVery High\n",
    "40 and over\tMorbidly Obese\tExtremely High"
   ]
  },
  {
   "cell_type": "code",
   "execution_count": null,
   "id": "c51d5fe5",
   "metadata": {
    "collapsed": true
   },
   "outputs": [],
   "source": [
    "if BMI>0:\n",
    "    if (BMI < 18.5):\n",
    "        Print(name +' are Underweight')\n",
    "    elif (BMI <= 24.9):\n",
    "        print(name +' You are Normal weight')\n",
    "    elif (BMI <= 29.9):\n",
    "        print(name +' You are Overweight')\n",
    "    elif (BMI <= 34.9):\n",
    "        print(name +' You are Obese')\n",
    "    elif (BMI <= 39.9):\n",
    "        print(name +' You are Severely Obese')\n",
    "    else:\n",
    "        print(name +' You are Morbidly obese')\n",
    "else:\n",
    "    print('Enter a valid nputs!')|"
   ]
  },
  {
   "cell_type": "code",
   "execution_count": null,
   "id": "bb4430ec",
   "metadata": {
    "collapsed": true
   },
   "outputs": [],
   "source": []
  },
  {
   "cell_type": "code",
   "execution_count": null,
   "id": "1daefc42",
   "metadata": {
    "collapsed": true
   },
   "outputs": [],
   "source": []
  },
  {
   "cell_type": "code",
   "execution_count": 5,
   "id": "4fcf85c0",
   "metadata": {
    "collapsed": true
   },
   "outputs": [],
   "source": []
  },
  {
   "cell_type": "code",
   "execution_count": null,
   "id": "f32d22c9",
   "metadata": {
    "collapsed": true
   },
   "outputs": [],
   "source": []
  },
  {
   "cell_type": "code",
   "execution_count": null,
   "id": "16ea194b",
   "metadata": {
    "collapsed": true
   },
   "outputs": [],
   "source": []
  },
  {
   "cell_type": "code",
   "execution_count": null,
   "id": "d17eef61",
   "metadata": {
    "collapsed": true
   },
   "outputs": [],
   "source": []
  },
  {
   "cell_type": "code",
   "execution_count": null,
   "id": "6e0db104",
   "metadata": {
    "collapsed": true
   },
   "outputs": [],
   "source": []
  },
  {
   "cell_type": "code",
   "execution_count": null,
   "id": "d3452899",
   "metadata": {
    "collapsed": true
   },
   "outputs": [],
   "source": []
  },
  {
   "cell_type": "code",
   "execution_count": null,
   "id": "0f0e584f",
   "metadata": {
    "collapsed": true
   },
   "outputs": [],
   "source": []
  },
  {
   "cell_type": "code",
   "execution_count": null,
   "id": "d6b5d7c3",
   "metadata": {
    "collapsed": true
   },
   "outputs": [],
   "source": []
  },
  {
   "cell_type": "code",
   "execution_count": null,
   "id": "98f28488",
   "metadata": {
    "collapsed": true
   },
   "outputs": [],
   "source": []
  },
  {
   "cell_type": "code",
   "execution_count": null,
   "id": "3c9e2a85",
   "metadata": {
    "collapsed": true
   },
   "outputs": [],
   "source": []
  }
 ],
 "metadata": {
  "kernelspec": {
   "display_name": "Python 3 (ipykernel)",
   "language": "python",
   "name": "python3"
  },
  "language_info": {
   "codemirror_mode": {
    "name": "ipython",
    "version": 3
   },
   "file_extension": ".py",
   "mimetype": "text/x-python",
   "name": "python",
   "nbconvert_exporter": "python",
   "pygments_lexer": "ipython3",
   "version": "3.10.9"
  }
 },
 "nbformat": 4,
 "nbformat_minor": 5
}
