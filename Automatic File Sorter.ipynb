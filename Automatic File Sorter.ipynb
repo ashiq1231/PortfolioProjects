{
 "cells": [
  {
   "cell_type": "markdown",
   "id": "c0ccc2bd",
   "metadata": {},
   "source": [
    "# Automatic File Sorter i n File Explorer"
   ]
  },
  {
   "cell_type": "code",
   "execution_count": 30,
   "id": "4a75bf1d",
   "metadata": {},
   "outputs": [],
   "source": [
    "import os, shutil"
   ]
  },
  {
   "cell_type": "code",
   "execution_count": 31,
   "id": "1bc947de",
   "metadata": {},
   "outputs": [],
   "source": [
    "path = r\"E:/WORK/Unsorted/\""
   ]
  },
  {
   "cell_type": "code",
   "execution_count": 32,
   "id": "88b7d048",
   "metadata": {},
   "outputs": [],
   "source": [
    "file_name = os.listdir(path)"
   ]
  },
  {
   "cell_type": "code",
   "execution_count": 34,
   "id": "d8c041b7",
   "metadata": {},
   "outputs": [
    {
     "name": "stdout",
     "output_type": "stream",
     "text": [
      "E:/WORK/Unsorted/Image files\n",
      "E:/WORK/Unsorted/DOC files\n",
      "E:/WORK/Unsorted/PDF files\n",
      "E:/WORK/Unsorted/ZIP files\n",
      "E:/WORK/Unsorted/Media files\n",
      "E:/WORK/Unsorted/PowerPoint files\n"
     ]
    }
   ],
   "source": [
    "folder_names = ['Image files', 'DOC files', 'PDF files', 'ZIP files', 'Media files', 'PowerPoint files']\n",
    "\n",
    "for loop in range(0,6):\n",
    "    if not os.path.exists(path + folder_names[loop]):\n",
    "        print((path + folder_names[loop]))\n",
    "        os.makedirs((path + folder_names[loop]))\n",
    "for file in file_name:\n",
    "    if \".pdf\" in file and not os.path.exists(path + \"PDF files/\" + file):\n",
    "        shutil.move(path + file,path + \"PDF files/\" + file)\n",
    "    elif \".png\" in file and not os.path.exists(path + \"Image files/\" + file):\n",
    "        shutil.move(path + file,path + \"Image files/\" + file)\n",
    "    elif \".PNG\" in file and not os.path.exists(path + \"Image files/\" + file):\n",
    "        shutil.move(path + file,path + \"Image files/\" + file)\n",
    "    elif \".jpg\" in file and not os.path.exists(path + \"Image files/\" + file):\n",
    "        shutil.move(path + file,path + \"Image files/\" + file)\n",
    "    elif \".docx\" in file and not os.path.exists(path + \"DOC files/\" + file):\n",
    "        shutil.move(path + file,path + \"DOC files/\" + file)\n",
    "    elif \".doc\" in file and not os.path.exists(path + \"DOC files/\" + file):\n",
    "        shutil.move(path + file,path + \"DOC files/\" + file)\n",
    "    elif \".pptx\" in file and not os.path.exists(path + \"PowerPoint files/\" + file):\n",
    "        shutil.move(path + file,path + \"PowerPoint files/\" + file)\n",
    "    elif \".ppsx\" in file and not os.path.exists(path + \"PowerPoint files/\" + file):\n",
    "        shutil.move(path + file,path + \"PowerPoint files/\" + file)\n",
    "    elif \".zip\" in file and not os.path.exists(path + \"ZIP files/\" + file):\n",
    "        shutil.move(path + file,path + \"ZIP files/\" + file)\n",
    "    elif \".mp3\" in file and not os.path.exists(path + \"Media files/\" + file):\n",
    "        shutil.move(path + file,path + \"Media files/\" + file)\n",
    "    elif \".mp4\" in file and not os.path.exists(path + \"Media files/\" + file):\n",
    "        shutil.move(path + file,path + \"Media files/\" + file)"
   ]
  }
 ],
 "metadata": {
  "kernelspec": {
   "display_name": "Python 3 (ipykernel)",
   "language": "python",
   "name": "python3"
  },
  "language_info": {
   "codemirror_mode": {
    "name": "ipython",
    "version": 3
   },
   "file_extension": ".py",
   "mimetype": "text/x-python",
   "name": "python",
   "nbconvert_exporter": "python",
   "pygments_lexer": "ipython3",
   "version": "3.10.9"
  }
 },
 "nbformat": 4,
 "nbformat_minor": 5
}
